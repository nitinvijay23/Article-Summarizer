{
 "cells": [
  {
   "cell_type": "code",
   "execution_count": null,
   "metadata": {
    "collapsed": true
   },
   "outputs": [],
   "source": [
    "import nltk\n",
    "from nltk.tokenize import sent_tokenize,word_tokenize\n",
    "from nltk.corpus import stopwords\n",
    "from collections import defaultdict\n",
    "from string import punctuation\n",
    "from heapq import nlargest\n"
   ]
  },
  {
   "cell_type": "code",
   "execution_count": null,
   "metadata": {
    "collapsed": true
   },
   "outputs": [],
   "source": [
    "class TextSummary:\n",
    "    def __init__(self, min_freq = 0.2, max_freq = 0.8):\n",
    "        self.min_freq = min_freq\n",
    "        self.max_freq = max_freq\n",
    "        self._stopwords = set(stopwords.words('english') + list(punctuation))\n",
    "        \n",
    "    def find_frequency(self,wordlist):\n",
    "        freq_words = nltk.FreqDist(wordlist)\n",
    "        my_new_dict = {}\n",
    "        maximum_freq = max(freq_words.values())\n",
    "        for key,value in freq_words.items():\n",
    "            freq_ratio = value/maximum_freq\n",
    "            if(freq_ratio > self.min_freq or freq_ratio < self.max_freq):\n",
    "                my_new_dict[key] = freq_ratio\n",
    "        return my_new_dict\n",
    "       \n",
    "    def summarize(self, document, n):\n",
    "        share_sent = 'Share this with Email Facebook Messenger Messenger Twitter Pinterest WhatsApp LinkedIn Copy this link These are external links and will open in a new window'\n",
    "        document = document.replace(share_sent, '')\n",
    "        sent_tokens = sent_tokenize(document)\n",
    "        word_sent = [word_tokenize(s.lower()) for s in sent_tokens]\n",
    "        word_sent = sum(word_sent, [])\n",
    "        #print(word_sent)\n",
    "        frequencies_dict = self.find_frequency(word_sent)\n",
    "        sentence_ranks = {}\n",
    "        for i, sent in enumerate(sent_tokens):\n",
    "            word_tokens = word_tokenize(sent.lower())\n",
    "            freq_count = 0\n",
    "            for word in word_tokens:\n",
    "                freq = frequencies_dict[word]\n",
    "                freq_count+=freq\n",
    "            sentence_ranks[sent]=freq_count\n",
    "        # Logic to select the best 2 sentence\n",
    "        return nlargest(n, sentence_ranks, key=sentence_ranks.get)\n",
    "        \n",
    "  \n",
    "    \n",
    "    "
   ]
  },
  {
   "cell_type": "code",
   "execution_count": null,
   "metadata": {
    "collapsed": true
   },
   "outputs": [],
   "source": [
    "import requests\n",
    "from bs4 import BeautifulSoup"
   ]
  },
  {
   "cell_type": "code",
   "execution_count": null,
   "metadata": {
    "collapsed": false
   },
   "outputs": [],
   "source": [
    "response = requests.get('http://feeds.bbci.co.uk/news/rss.xml')\n",
    "soup = BeautifulSoup(response.content, 'lxml')"
   ]
  },
  {
   "cell_type": "code",
   "execution_count": null,
   "metadata": {
    "collapsed": false
   },
   "outputs": [],
   "source": [
    "soup.findAll('guid')"
   ]
  },
  {
   "cell_type": "code",
   "execution_count": null,
   "metadata": {
    "collapsed": true
   },
   "outputs": [],
   "source": [
    "to_summarize = list(map(lambda p: p.text, feed.find_all('guid')))"
   ]
  },
  {
   "cell_type": "code",
   "execution_count": null,
   "metadata": {
    "collapsed": false
   },
   "outputs": [],
   "source": [
    "print(\"Please enter the number of articles \")\n",
    "n = int(input())"
   ]
  },
  {
   "cell_type": "code",
   "execution_count": null,
   "metadata": {
    "collapsed": false
   },
   "outputs": [],
   "source": [
    "# Fetch 5 articles\n",
    "\n",
    "summarize_n = to_summarize[:n]\n",
    "\n",
    "summarize_n"
   ]
  },
  {
   "cell_type": "code",
   "execution_count": null,
   "metadata": {
    "collapsed": true
   },
   "outputs": [],
   "source": [
    "def get_only_text(url):\n",
    "    resp = requests.get(url)\n",
    "    soup = BeautifulSoup(resp.content, 'lxml')\n",
    "    text = ' '.join(map(lambda p: p.text, soup.find_all('p')))\n",
    "    return soup.title.text, text"
   ]
  },
  {
   "cell_type": "code",
   "execution_count": null,
   "metadata": {
    "collapsed": true
   },
   "outputs": [],
   "source": [
    "ts = TextSummary()"
   ]
  },
  {
   "cell_type": "code",
   "execution_count": null,
   "metadata": {
    "collapsed": false
   },
   "outputs": [],
   "source": [
    "\n",
    "for article_url in summarize_n:\n",
    "    title, text = get_only_text(article_url)\n",
    "    print(title)\n",
    "    print(ts.summarize(text, 3))"
   ]
  },
  {
   "cell_type": "code",
   "execution_count": 1,
   "metadata": {
    "collapsed": false
   },
   "outputs": [
    {
     "name": "stderr",
     "output_type": "stream",
     "text": [
      "[NbConvertApp] Converting notebook text_summarization.ipynb to script\n",
      "[NbConvertApp] Writing 2731 bytes to text_summarization.py\n"
     ]
    }
   ],
   "source": [
    "!jupyter nbconvert --to script text_summarization.ipynb"
   ]
  },
  {
   "cell_type": "code",
   "execution_count": null,
   "metadata": {
    "collapsed": true
   },
   "outputs": [],
   "source": []
  }
 ],
 "metadata": {
  "kernelspec": {
   "display_name": "Python [Root]",
   "language": "python",
   "name": "Python [Root]"
  },
  "language_info": {
   "codemirror_mode": {
    "name": "ipython",
    "version": 3
   },
   "file_extension": ".py",
   "mimetype": "text/x-python",
   "name": "python",
   "nbconvert_exporter": "python",
   "pygments_lexer": "ipython3",
   "version": "3.5.2"
  }
 },
 "nbformat": 4,
 "nbformat_minor": 0
}
